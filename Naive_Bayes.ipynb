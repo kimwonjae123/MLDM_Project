{
  "nbformat": 4,
  "nbformat_minor": 0,
  "metadata": {
    "colab": {
      "provenance": []
    },
    "kernelspec": {
      "name": "python3",
      "display_name": "Python 3"
    },
    "language_info": {
      "name": "python"
    }
  },
  "cells": [
    {
      "cell_type": "code",
      "execution_count": null,
      "metadata": {
        "colab": {
          "base_uri": "https://localhost:8080/"
        },
        "id": "I8njzH4zYQdf",
        "outputId": "93465e2a-e686-4af1-d712-aa3ce1dccb12"
      },
      "outputs": [
        {
          "output_type": "stream",
          "name": "stdout",
          "text": [
            "(284807, 31)\n"
          ]
        }
      ],
      "source": [
        "import numpy as np\n",
        "import pandas as pd\n",
        "import matplotlib.pyplot as plt\n",
        "from sklearn.metrics import confusion_matrix,auc,roc_auc_score\n",
        "from sklearn.metrics import recall_score, precision_score, accuracy_score, f1_score\n",
        "df = pd.read_csv('creditcard.csv')\n",
        "print(df.shape)"
      ]
    },
    {
      "cell_type": "code",
      "source": [
        "from sklearn.preprocessing import StandardScaler\n",
        "df['scaled_Amount'] = StandardScaler().fit_transform(df['Amount'].values.reshape(-1,1))\n",
        "df = df.drop(['Amount'],axis=1)\n",
        "# The 'Amount' feature is on a different scale compared to the other principal components(V1~V28),\n",
        "# so it will be standardized using StandardScaler and stored in the dataframe for later use."
      ],
      "metadata": {
        "id": "Jfc6nWRreTzN"
      },
      "execution_count": null,
      "outputs": []
    },
    {
      "cell_type": "code",
      "source": [
        "def split_data(df, drop_list):\n",
        "    df = df.drop(drop_list,axis=1)\n",
        "    #test train split time\n",
        "    from sklearn.model_selection import train_test_split\n",
        "    y = df['Class'].values #target\n",
        "    X = df.drop(['Class'],axis=1).values #features\n",
        "    X_train, X_test, y_train, y_test = train_test_split(X, y, test_size=0.2,\n",
        "                                                    random_state=42, stratify=y)\n",
        "\n",
        "    print(\"train-set size: \", len(y_train),\n",
        "      \"\\ntest-set size: \", len(y_test))\n",
        "    print(\"fraud cases in test-set: \", sum(y_test))\n",
        "    return X_train, X_test, y_train, y_test\n",
        "print(df.columns)"
      ],
      "metadata": {
        "colab": {
          "base_uri": "https://localhost:8080/"
        },
        "id": "bDP9S1l2-4Th",
        "outputId": "840c648e-adb6-4369-ae0c-e78b18323ff2"
      },
      "execution_count": null,
      "outputs": [
        {
          "output_type": "stream",
          "name": "stdout",
          "text": [
            "Index(['Time', 'V1', 'V2', 'V3', 'V4', 'V5', 'V6', 'V7', 'V8', 'V9', 'V10',\n",
            "       'V11', 'V12', 'V13', 'V14', 'V15', 'V16', 'V17', 'V18', 'V19', 'V20',\n",
            "       'V21', 'V22', 'V23', 'V24', 'V25', 'V26', 'V27', 'V28', 'Class',\n",
            "       'scaled_Amount'],\n",
            "      dtype='object')\n"
          ]
        }
      ]
    },
    {
      "cell_type": "code",
      "source": [
        "def get_predictions(clf, X_train, y_train, X_test):\n",
        "    clf.fit(X_train,y_train)\n",
        "    y_pred = clf.predict(X_test)\n",
        "    y_pred_prob = clf.predict_proba(X_test)\n",
        "    train_pred = clf.predict(X_train)\n",
        "    print('train-set confusion matrix:\\n', confusion_matrix(y_train,train_pred))\n",
        "    return y_pred, y_pred_prob"
      ],
      "metadata": {
        "id": "OFBehKl6AfRT"
      },
      "execution_count": null,
      "outputs": []
    },
    {
      "cell_type": "code",
      "source": [
        "from sklearn.naive_bayes import GaussianNB"
      ],
      "metadata": {
        "id": "O1TEUcyIB4_i"
      },
      "execution_count": null,
      "outputs": []
    },
    {
      "cell_type": "code",
      "source": [
        "drop_list = []\n",
        "X_train, X_test, y_train, y_test = split_data(df, drop_list)\n",
        "model = GaussianNB()\n",
        "y_pred, y_pred_prob = get_predictions(model, X_train, y_train, X_test)\n",
        "\n",
        "feature_names1 = df.drop(drop_list + ['Class'], axis=1).columns\n",
        "theta_df1 = pd.DataFrame(model.theta_, columns=feature_names1)\n",
        "theta_df1.index = [f'class {i}' for i in model.classes_]\n",
        "var_df1 = pd.DataFrame(model.var_, columns=feature_names1)\n",
        "var_df1.index = [f'class {i}' for i in model.classes_]\n",
        "\n",
        "print(\"📌 변수 별 변수 평균 (theta_):\")\n",
        "print(theta_df1)\n",
        "print(\"\\n📌 변수 별 변수 분산 (var_):\")\n",
        "print(var_df1)"
      ],
      "metadata": {
        "colab": {
          "base_uri": "https://localhost:8080/"
        },
        "id": "lvcnfT8s4NqZ",
        "outputId": "f5c9ca56-6df5-45db-bffd-f0a06fecfed1"
      },
      "execution_count": null,
      "outputs": [
        {
          "output_type": "stream",
          "name": "stdout",
          "text": [
            "train-set size:  227845 \n",
            "test-set size:  56962\n",
            "fraud cases in test-set:  98\n",
            "train-set confusion matrix:\n",
            " [[225999   1452]\n",
            " [   140    254]]\n",
            "📌 변수 별 변수 평균 (theta_):\n",
            "                 Time        V1        V2        V3        V4        V5  \\\n",
            "class 0  94905.972262  0.008952 -0.006698  0.011860 -0.007976  0.005548   \n",
            "class 1  82832.177665 -4.707808  3.588729 -7.068378  4.592975 -3.101629   \n",
            "\n",
            "               V6        V7        V8        V9  ...       V20       V21  \\\n",
            "class 0  0.001230  0.009673 -0.001453  0.005189  ... -0.001621 -0.000719   \n",
            "class 1 -1.387192 -5.539909  0.587920 -2.589654  ...  0.358018  0.628814   \n",
            "\n",
            "              V22       V23       V24       V25       V26       V27       V28  \\\n",
            "class 0  0.000214  0.000159 -0.000089 -0.000690  0.000043 -0.000341  0.000020   \n",
            "class 1  0.051318 -0.062790 -0.109108  0.019602  0.047827  0.155933  0.077212   \n",
            "\n",
            "         scaled_Amount  \n",
            "class 0      -0.000952  \n",
            "class 1       0.148896  \n",
            "\n",
            "[2 rows x 30 columns]\n",
            "\n",
            "📌 변수 별 변수 분산 (var_):\n",
            "                 Time         V1         V2         V3         V4         V5  \\\n",
            "class 0  2.254804e+09   5.979816   4.924902   4.379793   4.212311   4.094437   \n",
            "class 1  2.303189e+09  48.940960  20.779243  53.482778  10.548418  31.412118   \n",
            "\n",
            "               V6         V7         V8        V9  ...       V20        V21  \\\n",
            "class 0  4.021000   3.645744   3.599597  3.438996  ...  2.846775   2.771252   \n",
            "class 1  5.723681  55.654017  46.720283  8.467272  ...  4.165782  16.286548   \n",
            "\n",
            "              V22       V23       V24       V25       V26       V27       V28  \\\n",
            "class 0  2.779065  2.644583  2.621718  2.526114  2.487425  2.416161  2.361671   \n",
            "class 1  4.374928  5.074494  2.514048  2.937036  2.472718  4.097297  2.562501   \n",
            "\n",
            "         scaled_Amount  \n",
            "class 0       3.259763  \n",
            "class 1       3.352535  \n",
            "\n",
            "[2 rows x 30 columns]\n"
          ]
        }
      ]
    },
    {
      "cell_type": "code",
      "source": [
        "v_features = [f'V{i}' for i in range(1, 29)]\n",
        "\n",
        "mean_0 = theta_df1.loc['class 0', v_features].values\n",
        "mean_1 = theta_df1.loc['class 1', v_features].values\n",
        "var_0 = var_df1.loc['class 0', v_features].values\n",
        "var_1 = var_df1.loc['class 1', v_features].values\n",
        "\n",
        "separation_scores = np.abs(mean_1 - mean_0) / np.sqrt(var_1 + var_0)\n",
        "\n",
        "importance_df = pd.DataFrame({\n",
        "    'Feature': v_features,\n",
        "    'Separation Score': separation_scores\n",
        "}).sort_values(by='Separation Score', ascending=False).reset_index(drop=True)\n",
        "\n",
        "\n",
        "print(\"\\n📌 Naive Bayes Separation Score (by Variable):\")\n",
        "for idx, row in importance_df.iterrows():\n",
        "    print(f\"{row['Feature']}: {row['Separation Score']:.5f}\")\n",
        "#Set the threshold to 0.4 and exclude all features with a score below that"
      ],
      "metadata": {
        "colab": {
          "base_uri": "https://localhost:8080/"
        },
        "id": "7UtJo7l54zXQ",
        "outputId": "c61cbf48-bcbd-4b49-d0b6-97cc0bf60b26"
      },
      "execution_count": null,
      "outputs": [
        {
          "output_type": "stream",
          "name": "stdout",
          "text": [
            "\n",
            "📌 Naive Bayes Separation Score (by Variable):\n",
            "V14: 1.42405\n",
            "V4: 1.19755\n",
            "V12: 1.18648\n",
            "V11: 1.04583\n",
            "V10: 1.03788\n",
            "V3: 0.93078\n",
            "V16: 0.90953\n",
            "V17: 0.89894\n",
            "V9: 0.75201\n",
            "V7: 0.72067\n",
            "V2: 0.70917\n",
            "V1: 0.63647\n",
            "V18: 0.59577\n",
            "V5: 0.52145\n",
            "V6: 0.44477\n",
            "V19: 0.23128\n",
            "V21: 0.14421\n",
            "V20: 0.13581\n",
            "V8: 0.08308\n",
            "V27: 0.06123\n",
            "V13: 0.05417\n",
            "V15: 0.04935\n",
            "V24: 0.04811\n",
            "V28: 0.03479\n",
            "V23: 0.02266\n",
            "V26: 0.02146\n",
            "V22: 0.01911\n",
            "V25: 0.00868\n"
          ]
        }
      ]
    },
    {
      "cell_type": "code",
      "source": [
        "# Case-1 : do not drop anything\n",
        "drop_list = []\n",
        "X_train, X_test, y_train, y_test = split_data(df, drop_list)\n",
        "model = GaussianNB()\n",
        "y_pred, y_pred_prob = get_predictions(model, X_train, y_train, X_test)\n",
        "a1=confusion_matrix(y_test,y_pred)\n",
        "a2=recall_score(y_test,y_pred)\n",
        "a3=precision_score(y_test,y_pred)\n",
        "a4=f1_score(y_test,y_pred)\n",
        "a5=accuracy_score(y_test,y_pred)\n",
        "print('test-set confusion matrix:\\n', a1)\n",
        "print(\"recall score: \", a2)\n",
        "print(\"precision score: \", a3)\n",
        "print(\"f1 score: \", a4)\n",
        "print(\"accuracy score: \", a5)\n",
        "print(\"ROC AUC:\", roc_auc_score(y_test, y_pred_prob[:,1]))"
      ],
      "metadata": {
        "colab": {
          "base_uri": "https://localhost:8080/"
        },
        "id": "VIxhloWO4jKN",
        "outputId": "5940ecca-a7bc-4559-b620-7b83eee10822"
      },
      "execution_count": null,
      "outputs": [
        {
          "output_type": "stream",
          "name": "stdout",
          "text": [
            "train-set size:  227845 \n",
            "test-set size:  56962\n",
            "fraud cases in test-set:  98\n",
            "train-set confusion matrix:\n",
            " [[225999   1452]\n",
            " [   140    254]]\n",
            "test-set confusion matrix:\n",
            " [[56473   391]\n",
            " [   33    65]]\n",
            "recall score:  0.6632653061224489\n",
            "precision score:  0.1425438596491228\n",
            "f1 score:  0.23465703971119134\n",
            "accuracy score:  0.992556441136196\n",
            "ROC AUC: 0.9679048937385871\n"
          ]
        }
      ]
    },
    {
      "cell_type": "code",
      "source": [
        "# Case-2 : drop # Case-NB-2 : drop V19,V21,V20,V8,V27,V13,V15,V24,V28,V23,V26,V22,V25\n",
        "drop_list = ['V19','V21','V20','V8','V27','V13','V15','V24','V28','V23','V26','V22','V25']\n",
        "X_train, X_test, y_train, y_test = split_data(df, drop_list)\n",
        "model = GaussianNB()\n",
        "y_pred, y_pred_prob = get_predictions(model, X_train, y_train, X_test)\n",
        "b1=confusion_matrix(y_test,y_pred)\n",
        "b2=recall_score(y_test,y_pred)\n",
        "b3=precision_score(y_test,y_pred)\n",
        "b4=f1_score(y_test,y_pred)\n",
        "b5=accuracy_score(y_test,y_pred)\n",
        "print('test-set confusion matrix:\\n', b1)\n",
        "print(\"recall score: \", b2)\n",
        "print(\"precision score: \", b3)\n",
        "print(\"f1 score: \", b4)\n",
        "print(\"accuracy score: \", b5)\n",
        "print(\"ROC AUC:\", roc_auc_score(y_test, y_pred_prob[:,1]))"
      ],
      "metadata": {
        "colab": {
          "base_uri": "https://localhost:8080/"
        },
        "id": "BzwhEp2yCaRQ",
        "outputId": "468c3787-378c-4b84-cc90-622a0581e989"
      },
      "execution_count": null,
      "outputs": [
        {
          "output_type": "stream",
          "name": "stdout",
          "text": [
            "train-set size:  227845 \n",
            "test-set size:  56962\n",
            "fraud cases in test-set:  98\n",
            "train-set confusion matrix:\n",
            " [[226331   1120]\n",
            " [   135    259]]\n",
            "test-set confusion matrix:\n",
            " [[56543   321]\n",
            " [   31    67]]\n",
            "recall score:  0.6836734693877551\n",
            "precision score:  0.17268041237113402\n",
            "f1 score:  0.2757201646090535\n",
            "accuracy score:  0.9938204416979741\n",
            "ROC AUC: 0.9658908688686504\n"
          ]
        }
      ]
    },
    {
      "cell_type": "code",
      "source": [
        "# Case-3 : drop some of principle components + Time\n",
        "drop_list = ['Time','V19','V21','V20','V8','V27','V13','V15','V24','V28','V23','V26','V22','V25']\n",
        "X_train, X_test, y_train, y_test = split_data(df, drop_list)\n",
        "model = GaussianNB()\n",
        "y_pred, y_pred_prob = get_predictions(model, X_train, y_train, X_test)\n",
        "c1=confusion_matrix(y_test,y_pred)\n",
        "c2=recall_score(y_test,y_pred)\n",
        "c3=precision_score(y_test,y_pred)\n",
        "c4=f1_score(y_test,y_pred)\n",
        "c5=accuracy_score(y_test,y_pred)\n",
        "print('test-set confusion matrix:\\n', c1)\n",
        "print(\"recall score: \", c2)\n",
        "print(\"precision score: \", c3)\n",
        "print(\"f1 score: \", c4)\n",
        "print(\"accuracy score: \", c5)\n",
        "print(\"ROC AUC:\", roc_auc_score(y_test, y_pred_prob[:,1]))"
      ],
      "metadata": {
        "colab": {
          "base_uri": "https://localhost:8080/"
        },
        "id": "ofszcDNcCsTI",
        "outputId": "e890e940-9a33-43ad-a908-bed7e1eb9550"
      },
      "execution_count": null,
      "outputs": [
        {
          "output_type": "stream",
          "name": "stdout",
          "text": [
            "train-set size:  227845 \n",
            "test-set size:  56962\n",
            "fraud cases in test-set:  98\n",
            "train-set confusion matrix:\n",
            " [[224452   2999]\n",
            " [    62    332]]\n",
            "test-set confusion matrix:\n",
            " [[56054   810]\n",
            " [   12    86]]\n",
            "recall score:  0.8775510204081632\n",
            "precision score:  0.09598214285714286\n",
            "f1 score:  0.17303822937625754\n",
            "accuracy score:  0.9855693269197009\n",
            "ROC AUC: 0.9580382624349684\n"
          ]
        }
      ]
    },
    {
      "cell_type": "code",
      "source": [
        "# Case-4 : drop some of principle components + 'scaled_Amount'\n",
        "drop_list = ['scaled_Amount','V19','V21','V20','V8','V27','V13','V15','V24','V28','V23','V26','V22','V25']\n",
        "X_train, X_test, y_train, y_test = split_data(df, drop_list)\n",
        "model = GaussianNB()\n",
        "y_pred, y_pred_prob = get_predictions(model, X_train, y_train, X_test)\n",
        "d1=confusion_matrix(y_test,y_pred)\n",
        "d2=recall_score(y_test,y_pred)\n",
        "d3=precision_score(y_test,y_pred)\n",
        "d4=f1_score(y_test,y_pred)\n",
        "d5=accuracy_score(y_test,y_pred)\n",
        "print('test-set confusion matrix:\\n', d1)\n",
        "print(\"recall score: \", d2)\n",
        "print(\"precision score: \", d3)\n",
        "print(\"f1 score: \", d4)\n",
        "print(\"accuracy score: \", d5)\n",
        "print(\"ROC AUC:\", roc_auc_score(y_test, y_pred_prob[:,1]))"
      ],
      "metadata": {
        "colab": {
          "base_uri": "https://localhost:8080/"
        },
        "id": "KBhRJ1zCdfV0",
        "outputId": "aca5ae3a-2481-4513-c652-f6288f4a4b46"
      },
      "execution_count": null,
      "outputs": [
        {
          "output_type": "stream",
          "name": "stdout",
          "text": [
            "train-set size:  227845 \n",
            "test-set size:  56962\n",
            "fraud cases in test-set:  98\n",
            "train-set confusion matrix:\n",
            " [[226339   1112]\n",
            " [   135    259]]\n",
            "test-set confusion matrix:\n",
            " [[56546   318]\n",
            " [   32    66]]\n",
            "recall score:  0.673469387755102\n",
            "precision score:  0.171875\n",
            "f1 score:  0.27385892116182575\n",
            "accuracy score:  0.9938555528246902\n",
            "ROC AUC: 0.9658169366508561\n"
          ]
        }
      ]
    },
    {
      "cell_type": "code",
      "source": [
        "# Case-5 : drop some of principle components + Time + 'scaled_Amount'\n",
        "drop_list = ['scaled_Amount','Time','V19','V21','V20','V8','V27','V13','V15','V24','V28','V23','V26','V22','V25']\n",
        "X_train, X_test, y_train, y_test = split_data(df, drop_list)\n",
        "model = GaussianNB()\n",
        "y_pred, y_pred_prob = get_predictions(model, X_train, y_train, X_test)\n",
        "e1=confusion_matrix(y_test,y_pred)\n",
        "e2=recall_score(y_test,y_pred)\n",
        "e3=precision_score(y_test,y_pred)\n",
        "e4=f1_score(y_test,y_pred)\n",
        "e5=accuracy_score(y_test,y_pred)\n",
        "print('test-set confusion matrix:\\n', e1)\n",
        "print(\"recall score: \", e2)\n",
        "print(\"precision score: \", e3)\n",
        "print(\"f1 score: \", e4)\n",
        "print(\"accuracy score: \", e5)\n",
        "print(\"ROC AUC:\", roc_auc_score(y_test, y_pred_prob[:,1]))"
      ],
      "metadata": {
        "colab": {
          "base_uri": "https://localhost:8080/"
        },
        "id": "QCXJy-h9Cw68",
        "outputId": "6abc824c-8a67-4370-d1c4-95d7c7416215"
      },
      "execution_count": null,
      "outputs": [
        {
          "output_type": "stream",
          "name": "stdout",
          "text": [
            "train-set size:  227845 \n",
            "test-set size:  56962\n",
            "fraud cases in test-set:  98\n",
            "train-set confusion matrix:\n",
            " [[224506   2945]\n",
            " [    62    332]]\n",
            "test-set confusion matrix:\n",
            " [[56079   785]\n",
            " [   12    86]]\n",
            "recall score:  0.8775510204081632\n",
            "precision score:  0.09873708381171067\n",
            "f1 score:  0.17750257997936017\n",
            "accuracy score:  0.9860082160036515\n",
            "ROC AUC: 0.9578202341713276\n"
          ]
        }
      ]
    },
    {
      "cell_type": "code",
      "source": [
        "scores = {\n",
        "    \"Case-1\": {\"recall\": a2, \"precision\": a3,  \"f1\": a4, \"accuracy\": a5},\n",
        "    \"Case-2\": {\"recall\": b2, \"precision\": b3,  \"f1\": b4, \"accuracy\": b5},\n",
        "    \"Case-3\": {\"recall\": c2, \"precision\": c3,  \"f1\": c4, \"accuracy\": c5},\n",
        "    \"Case-4\": {\"recall\": d2, \"precision\": d3,  \"f1\": d4, \"accuracy\": d5},\n",
        "    \"Case-5\": {\"recall\": e2, \"precision\": e3,  \"f1\": e4, \"accuracy\": e5},\n",
        "}"
      ],
      "metadata": {
        "id": "f98swk7ZGFwG"
      },
      "execution_count": null,
      "outputs": []
    },
    {
      "cell_type": "code",
      "source": [
        "metrics = [\"precision\", \"recall\",  \"f1\", \"accuracy\"]\n",
        "\n",
        "# case 리스트\n",
        "cases = list(scores.keys())\n",
        "\n",
        "# metric별 값 정리\n",
        "values_by_metric = {metric: [scores[case][metric] for case in cases] for metric in metrics}\n",
        "\n",
        "# 그래프 그리기\n",
        "for metric in metrics:\n",
        "    plt.figure(figsize=(6, 4))\n",
        "\n",
        "    bars = plt.bar(cases, values_by_metric[metric], color='mediumseagreen')\n",
        "\n",
        "    plt.ylim(0, 1)\n",
        "    plt.title(f\"{metric.capitalize()} Comparison\")\n",
        "    plt.ylabel(metric.capitalize())\n",
        "    plt.xticks(rotation=45)\n",
        "\n",
        "    # 막대 위에 값 표시\n",
        "    for bar in bars:\n",
        "        height = bar.get_height()\n",
        "        plt.text(bar.get_x() + bar.get_width()/2, height + 0.01, f\"{height:.5f}\", ha='center', va='bottom')\n",
        "\n",
        "    plt.grid(axis='y')\n",
        "    plt.tight_layout()\n",
        "    plt.show()"
      ],
      "metadata": {
        "colab": {
          "base_uri": "https://localhost:8080/",
          "height": 1000
        },
        "id": "JkJQ23K6vRTf",
        "outputId": "18fe34f8-a47d-431d-9201-73bb1ae97430"
      },
      "execution_count": null,
      "outputs": [
        {
          "output_type": "display_data",
          "data": {
            "text/plain": [
              "<Figure size 600x400 with 1 Axes>"
            ],
            "image/png": "[encoded data removed]"
          },
          "metadata": {}
        },
        {
          "output_type": "display_data",
          "data": {
            "text/plain": [
              "<Figure size 600x400 with 1 Axes>"
            ],
            "image/png": "[encoded data removed]"
          },
          "metadata": {}
        },
        {
          "output_type": "display_data",
          "data": {
            "text/plain": [
              "<Figure size 600x400 with 1 Axes>"
            ],
            "image/png": "[encoded data removed]"
          },
          "metadata": {}
        },
        {
          "output_type": "display_data",
          "data": {
            "text/plain": [
              "<Figure size 600x400 with 1 Axes>"
            ],
            "image/png": "[encoded data removed]"
          },
          "metadata": {}
        }
      ]
    },
    {
      "cell_type": "code",
      "source": [
        "# 먼저 Naive Bayes 모델을 이용하여 V1~V28 변수에 대한 변수 별 평균과 분산을 계산하였습니다.\n",
        "# 이후, 이 값을 바탕으로 Separation Score를 산출하였고, 기준값 0.4 이하인 성분들은 구분력이 낮다고 판단하여 제거 대상으로 선정하였습니다.\n",
        "#('V19','V21','V20','V8','V27','V13','V15','V24','V28','V23','V26','V22','V25') 총 13개\n",
        "# 다음과 같이 5개의 Case로 나누어 실험을 진행하였습니다:\n",
        "# 1) 어떤 변수도 제거하지 않은 경우\n",
        "# 2) Separation Score가 낮은 13개의 PCA 성분만 제거한 경우\n",
        "# 3) 13개의 PCA 성분 + Time 변수를 제거한 경우\n",
        "# 4) 13개의 PCA 성분 + Amount 변수를 제거한 경우\n",
        "# 5) 13개의 PCA 성분 + Time + Amount 변수를 모두 제거한 경우\n",
        "# 각 Case에 대해 Naive Bayes 모델을 적용하고, Recall, Precision, F1-score, Accuracy, ROC AUC 지표를 산출하였습니다."
      ],
      "metadata": {
        "id": "-u0TuwJnhl7_"
      },
      "execution_count": null,
      "outputs": []
    },
    {
      "cell_type": "code",
      "source": [
        "# First, the Naive Bayes model was used to calculate the class-wise mean and variance for each of the V1–V28 features.\n",
        "# Based on these values, Separation Scores were computed, and features with scores below the threshold of 0.4 were identified as having low discriminative power and selected for removal.\n",
        "# A total of 13 features were selected: ('V19', 'V21', 'V20', 'V8', 'V27', 'V13', 'V15', 'V24', 'V28', 'V23', 'V26', 'V22', 'V25')\n",
        "# The following five experimental cases were considered:\n",
        "# 1) No features removed\n",
        "# 2) Only the 13 low-scoring PCA components removed\n",
        "# 3) The 13 PCA components and the Time variable removed\n",
        "# 4) The 13 PCA components and the Amount variable removed\n",
        "# 5) The 13 PCA components, Time, and Amount variables all removed\n",
        "# For each case, a Naive Bayes model was applied, and performance was evaluated using Recall, Precision, F1-score, Accuracy, and ROC AUC."
      ],
      "metadata": {
        "id": "lKVxoYxSoydi"
      },
      "execution_count": null,
      "outputs": []
    }
  ]
}